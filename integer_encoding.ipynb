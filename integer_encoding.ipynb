{
 "cells": [
  {
   "cell_type": "code",
   "execution_count": 1,
   "metadata": {},
   "outputs": [],
   "source": [
    "from nltk.tokenize import word_tokenize\n",
    "from tensorflow.keras.preprocessing.text import text_to_word_sequence\n",
    "import re\n",
    "from nltk.corpus import stopwords\n",
    "from nltk.tokenize import sent_tokenize"
   ]
  },
  {
   "cell_type": "code",
   "execution_count": 2,
   "metadata": {},
   "outputs": [
    {
     "name": "stdout",
     "output_type": "stream",
     "text": [
      "{'barber': 8, 'person': 3, 'good': 1, 'huge': 5, 'knew': 1, 'secret': 6, 'kept': 4, 'word': 2, 'keeping': 2, 'driving': 1, 'crazy': 1, 'went': 1, 'mountain': 1}\n",
      "---\n",
      "[['barber', 'person'], ['barber', 'good', 'person'], ['barber', 'huge', 'person'], ['knew', 'secret'], ['secret', 'kept', 'huge', 'secret'], ['huge', 'secret'], ['barber', 'kept', 'word'], ['barber', 'kept', 'word'], ['barber', 'kept', 'secret'], ['keeping', 'keeping', 'huge', 'secret', 'driving', 'barber', 'crazy'], ['barber', 'went', 'huge', 'mountain']]\n"
     ]
    }
   ],
   "source": [
    "# Corpus\n",
    "text=\"A barber is a person. a barber is good person. a barber is huge person. he Knew A Secret! The Secret He Kept is huge secret. Huge secret. His barber kept his word. a barber kept his word. His barber kept his secret. But keeping and keeping such a huge secret to himself was driving the barber crazy. the barber went up a huge mountain.\"\n",
    "\n",
    "# Sentence tokenization\n",
    "sentences=sent_tokenize(text)\n",
    "\n",
    "# Remove the stopword\n",
    "stop_words=set(stopwords.words('english'))\n",
    "\n",
    "# Take short word-the length is between 1 and 2-out\n",
    "shortword=re.compile(r'\\W*\\b\\w{1,2}\\b')\n",
    "vocab={}\n",
    "sentences_collection=[]\n",
    "result=[]\n",
    "for sentence in sentences:\n",
    "    lst=[]\n",
    "    lst.append(sentence)\n",
    "    sentences_collection.append(lst)\n",
    "\n",
    "preprocessed_sentences=[]\n",
    "for i in sentences_collection:\n",
    "    text_to_word=text_to_word_sequence(i[0]) # Lower case all the words\n",
    "\n",
    "    lst2=[]\n",
    "    for j in text_to_word:\n",
    "        if j not in stop_words: # Remove the stopword\n",
    "            lst2.append(j)   \n",
    "            if j not in vocab: # Count the words frequency\n",
    "                vocab[j]=0\n",
    "            vocab[j]+=1\n",
    "\n",
    "    preprocessed_sentences.append(lst2)\n",
    "\n",
    "print(vocab)\n",
    "print('---')\n",
    "print(preprocessed_sentences)\n"
   ]
  },
  {
   "cell_type": "code",
   "execution_count": 3,
   "metadata": {},
   "outputs": [
    {
     "name": "stdout",
     "output_type": "stream",
     "text": [
      "[('barber', 8), ('secret', 6), ('huge', 5), ('kept', 4), ('person', 3), ('word', 2), ('keeping', 2), ('good', 1), ('knew', 1), ('driving', 1), ('crazy', 1), ('went', 1), ('mountain', 1)]\n"
     ]
    }
   ],
   "source": [
    "# Sort the words by frequency\n",
    "sorting=sorted(vocab.items(), key=lambda x:x[1], reverse=True)\n",
    "print(sorting)"
   ]
  },
  {
   "cell_type": "code",
   "execution_count": 4,
   "metadata": {},
   "outputs": [
    {
     "data": {
      "text/plain": [
       "{'barber': 1, 'secret': 2, 'huge': 3, 'kept': 4, 'person': 5}"
      ]
     },
     "execution_count": 4,
     "metadata": {},
     "output_type": "execute_result"
    }
   ],
   "source": [
    "# Higher frequencies are given lower integers. \n",
    "more_then_one=list(filter(lambda x:x[1]>1, sorting))\n",
    "word_to_index={}\n",
    "i=0\n",
    "\n",
    "# Remove words with index greater than 5 \n",
    "vocab_size = 5\n",
    "for word, frequency in more_then_one:\n",
    "    i=i+1\n",
    "    if i<=vocab_size:\n",
    "        word_to_index[word]=i\n",
    "word_to_index"
   ]
  },
  {
   "cell_type": "code",
   "execution_count": 5,
   "metadata": {},
   "outputs": [
    {
     "name": "stdout",
     "output_type": "stream",
     "text": [
      "{'barber': 1, 'secret': 2, 'huge': 3, 'kept': 4, 'person': 5, 'Out of vocabulary': 6}\n"
     ]
    }
   ],
   "source": [
    "# Words that don't exist in the wordset are given 'Out of vocabulary'\n",
    "word_to_index['Out of vocabulary']=len(word_to_index)+1\n",
    "print(word_to_index)"
   ]
  },
  {
   "cell_type": "code",
   "execution_count": 6,
   "metadata": {},
   "outputs": [
    {
     "name": "stdout",
     "output_type": "stream",
     "text": [
      "[[1, 5], [1, 6, 5], [1, 3, 5], [6, 2], [2, 4, 3, 2], [3, 2], [1, 4, 6], [1, 4, 6], [1, 4, 2], [6, 6, 3, 2, 6, 1, 6], [1, 6, 3, 6]]\n"
     ]
    }
   ],
   "source": [
    "# Mapping all the words with integers\n",
    "encoded_sentences=[]\n",
    "for sentence in preprocessed_sentences:\n",
    "    encoded_sentence=[]\n",
    "    for word in sentence:\n",
    "        try:\n",
    "            encoded_sentence.append(word_to_index[word])\n",
    "        except:\n",
    "            encoded_sentence.append(word_to_index['Out of vocabulary'])\n",
    "    encoded_sentences.append(encoded_sentence)\n",
    "print(encoded_sentences)\n",
    "\n",
    "        "
   ]
  }
 ],
 "metadata": {
  "interpreter": {
   "hash": "d1b552a4d08e4dd51c9997fdf8a589825c1a8bce289c1233a9b7636c916e0bff"
  },
  "kernelspec": {
   "display_name": "Python 3.8.8 64-bit ('anaconda3-2021.05')",
   "language": "python",
   "name": "python3"
  },
  "language_info": {
   "codemirror_mode": {
    "name": "ipython",
    "version": 3
   },
   "file_extension": ".py",
   "mimetype": "text/x-python",
   "name": "python",
   "nbconvert_exporter": "python",
   "pygments_lexer": "ipython3",
   "version": "3.8.8"
  },
  "orig_nbformat": 4
 },
 "nbformat": 4,
 "nbformat_minor": 2
}
